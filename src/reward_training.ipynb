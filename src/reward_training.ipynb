{
 "cells": [
  {
   "cell_type": "code",
   "execution_count": 1,
   "id": "08cc6236-8b22-494a-8cec-788f2b8541f0",
   "metadata": {
    "tags": []
   },
   "outputs": [],
   "source": [
    "%load_ext autoreload\n",
    "%autoreload 2\n",
    "import os\n",
    "os.chdir('../')"
   ]
  },
  {
   "cell_type": "code",
   "execution_count": 2,
   "id": "a388d6e3-90e5-41d1-ab24-d4d57c65a400",
   "metadata": {
    "tags": []
   },
   "outputs": [],
   "source": [
    "from transformers import AutoModelForSequenceClassification, AutoTokenizer, AutoConfig, AutoModel\n",
    "from transformers import DataCollatorWithPadding\n",
    "from torch.utils.data import Dataset, DataLoader\n",
    "import json\n",
    "import os\n",
    "import random\n",
    "from sklearn.model_selection import train_test_split\n",
    "import torch\n",
    "from tqdm.notebook import tqdm"
   ]
  },
  {
   "cell_type": "code",
   "execution_count": 3,
   "id": "07e02814-daa4-401d-a5ee-5e9cf83aef87",
   "metadata": {
    "tags": []
   },
   "outputs": [],
   "source": [
    "from model import V2JRewardModelConfig, V2JRewardModel\n",
    "AutoConfig.register('V2JRewardModel', V2JRewardModelConfig)\n",
    "AutoModel.register(V2JRewardModelConfig, V2JRewardModel)"
   ]
  },
  {
   "cell_type": "code",
   "execution_count": 4,
   "id": "b489d087-4cdd-41cb-bd42-762047a4b7ec",
   "metadata": {
    "tags": []
   },
   "outputs": [],
   "source": [
    "DATA_DIR = \".\"\n",
    "SEED = 42\n",
    "MAX_SEQ_LEN = V2JRewardModel.MAX_SEQ_LEN"
   ]
  },
  {
   "cell_type": "code",
   "execution_count": 5,
   "id": "78709fdc-de55-49ba-be8a-00fcadd1aad3",
   "metadata": {
    "tags": []
   },
   "outputs": [],
   "source": [
    "model_name = \"models/v2j-reward-large\""
   ]
  },
  {
   "cell_type": "code",
   "execution_count": 45,
   "id": "09de9baa-a6df-4fb5-bb9d-23896fe50f74",
   "metadata": {
    "tags": []
   },
   "outputs": [],
   "source": [
    "tokenizer = AutoTokenizer.from_pretrained(model_name)"
   ]
  },
  {
   "cell_type": "code",
   "execution_count": 46,
   "id": "9fee1210-cf40-439d-aa49-f844ecc9a84a",
   "metadata": {
    "tags": []
   },
   "outputs": [],
   "source": [
    "dataset_files = [\n",
    "    \"reward_dataset_v2j-vectors-to-jokes.json\"\n",
    "]\n",
    "\n",
    "final_dataset = []\n",
    "for dataset_file in dataset_files:\n",
    "    with open(os.path.join(DATA_DIR, dataset_file), 'r') as f:\n",
    "        final_dataset.extend(json.load(f))"
   ]
  },
  {
   "cell_type": "code",
   "execution_count": 57,
   "id": "bb8542d8-cb06-4ce8-b8e7-4644d627ebf9",
   "metadata": {
    "tags": []
   },
   "outputs": [],
   "source": [
    "class RedditRewardDataset(Dataset):\n",
    "    def __init__(self, tokenizer, dataset, dataset_type):\n",
    "        self.tokenizer = tokenizer\n",
    "        self.dataset = dataset\n",
    "        self.dataset_type = dataset_type\n",
    "\n",
    "    def __getitem__(self, idx):\n",
    "        sample = self.dataset[idx]\n",
    "        return tokenizer(\"Human: \" + sample[\"query\"], \"Assistant: \" + sample[self.dataset_type], truncation=True, max_length=MAX_SEQ_LEN)\n",
    "\n",
    "    def __len__(self):\n",
    "        return len(self.dataset)"
   ]
  },
  {
   "cell_type": "code",
   "execution_count": 58,
   "id": "7fe89b30-dc94-4c29-89bf-f705e66dde11",
   "metadata": {
    "tags": []
   },
   "outputs": [],
   "source": [
    "train_final_dataset, test_final_dataset = \\\n",
    "        train_test_split(final_dataset, test_size=0.2, random_state=SEED)"
   ]
  },
  {
   "cell_type": "code",
   "execution_count": 59,
   "id": "9ec5a560-73d7-4543-88cb-d435f93d525f",
   "metadata": {
    "tags": []
   },
   "outputs": [],
   "source": [
    "train_dataset_chosen = RedditRewardDataset(tokenizer, train_final_dataset, \"chosen\")\n",
    "train_dataset_rejected = RedditRewardDataset(tokenizer, train_final_dataset, \"rejected\")\n",
    "\n",
    "test_dataset_chosen = RedditRewardDataset(tokenizer, test_final_dataset, \"chosen\")\n",
    "test_dataset_rejected = RedditRewardDataset(tokenizer, test_final_dataset, \"rejected\")"
   ]
  },
  {
   "cell_type": "code",
   "execution_count": 60,
   "id": "29d76ea4-3888-4b4b-8b46-33a2f3f0e41f",
   "metadata": {
    "tags": []
   },
   "outputs": [],
   "source": [
    "# Do not shuffle as we are iterating chosen and rejected together \n",
    "# Shuffle was performed for train/test split\n",
    "batch_size = 4\n",
    "\n",
    "train_dataloader_chosen = DataLoader(train_dataset_chosen, batch_size=batch_size, shuffle=False, \n",
    "                                     collate_fn=DataCollatorWithPadding(tokenizer))\n",
    "train_dataloader_rejected = DataLoader(train_dataset_rejected, batch_size=batch_size, shuffle=False, \n",
    "                              collate_fn=DataCollatorWithPadding(tokenizer))\n",
    "\n",
    "test_dataloader_chosen = DataLoader(test_dataset_chosen, batch_size=batch_size, shuffle=False, \n",
    "                              collate_fn=DataCollatorWithPadding(tokenizer))\n",
    "test_dataloader_rejected = DataLoader(test_dataset_rejected, batch_size=batch_size, shuffle=False, \n",
    "                              collate_fn=DataCollatorWithPadding(tokenizer))"
   ]
  },
  {
   "cell_type": "code",
   "execution_count": 61,
   "id": "117cfdde-ff4e-4ca6-a559-36a11cd6a4d1",
   "metadata": {
    "tags": []
   },
   "outputs": [],
   "source": [
    "device = torch.device(\"cuda\")"
   ]
  },
  {
   "cell_type": "code",
   "execution_count": 70,
   "id": "48513880-a2b8-45e3-8828-7b585848c9b3",
   "metadata": {
    "tags": []
   },
   "outputs": [],
   "source": [
    "epochs = 1\n",
    "lr = 2e-6\n",
    "\n",
    "#model = AutoModelForSequenceClassification.from_pretrained(model_name)\n",
    "config = AutoConfig.from_pretrained(model_name)\n",
    "model = AutoModel.from_pretrained(model_name, config=config)\n",
    "model = model.to(device)\n",
    "optimizer = torch.optim.AdamW(model.parameters(), lr=lr)\n",
    "\n",
    "#loss_fn = torch.nn.MarginRankingLoss()\n",
    "loss_fn = lambda chosen, rejected: -torch.nn.functional.logsigmoid(chosen - rejected)"
   ]
  },
  {
   "cell_type": "code",
   "execution_count": 71,
   "id": "7989ae51-6947-46a1-b656-aa5ca6a92531",
   "metadata": {
    "tags": []
   },
   "outputs": [],
   "source": [
    "def evaluate(model, eval_dataloaders, loss_fn):\n",
    "    eval_dataloader_chosen, eval_dataloader_rejected = eval_dataloaders\n",
    "\n",
    "    model.eval()\n",
    "    \n",
    "    correct = 0\n",
    "    total = 0\n",
    "    eval_loss = 0\n",
    "    \n",
    "    with torch.no_grad():\n",
    "        for i, (batch_chosen, batch_rejected) in \\\n",
    "                enumerate(tqdm(\n",
    "                    zip(test_dataloader_chosen, test_dataloader_rejected), \n",
    "                    \"Evaluation\", total=len(test_dataloader_chosen))):\n",
    "            batch_chosen = batch_chosen.to(device)\n",
    "            batch_rejected = batch_rejected.to(device)\n",
    "            \n",
    "            chosen_outputs = model(batch_chosen)\n",
    "            rejected_outputs = model(batch_rejected)\n",
    "            \n",
    "            loss = loss_fn(chosen_outputs.logits, rejected_outputs.logits)\n",
    "            eval_loss += loss.sum().item()\n",
    "            correct += (chosen_outputs.logits > rejected_outputs.logits).sum().item()\n",
    "            total += loss.shape[0]\n",
    "    \n",
    "    print(f\"Eval loss: {eval_loss/total:.2f}\")\n",
    "    print(f\"Eval accuracy: {correct/total:.2f}\")"
   ]
  },
  {
   "cell_type": "code",
   "execution_count": 72,
   "id": "32a4eb7c-43bf-4613-9a22-ad83962aa043",
   "metadata": {
    "tags": []
   },
   "outputs": [
    {
     "data": {
      "application/vnd.jupyter.widget-view+json": {
       "model_id": "f9a561d4c4eb499c916dbf33a2084430",
       "version_major": 2,
       "version_minor": 0
      },
      "text/plain": [
       "Evaluation:   0%|          | 0/89 [00:00<?, ?it/s]"
      ]
     },
     "metadata": {},
     "output_type": "display_data"
    },
    {
     "name": "stdout",
     "output_type": "stream",
     "text": [
      "Eval loss: 0.65\n",
      "Eval accuracy: 0.65\n"
     ]
    }
   ],
   "source": [
    "evaluate(model, (test_dataloader_chosen, test_dataloader_rejected), loss_fn)"
   ]
  },
  {
   "cell_type": "code",
   "execution_count": 73,
   "id": "b26eb3a0-2068-4e66-bae8-963521a9349e",
   "metadata": {
    "tags": []
   },
   "outputs": [],
   "source": [
    "def train(model, train_dataloaders, eval_dataloaders, epochs, loss_fn, optimizer):\n",
    "    train_dataloader_chosen, train_dataloader_rejected = train_dataloaders\n",
    "    for epoch in range(epochs):\n",
    "        print(f\"Epoch {epoch+1}:\")\n",
    "        model.train()\n",
    "        \n",
    "        train_loss = 0.0\n",
    "        total = 0\n",
    "        \n",
    "        for i, (batch_chosen, batch_rejected) in \\\n",
    "                enumerate(tqdm(\n",
    "                    zip(train_dataloader_chosen, train_dataloader_rejected), \n",
    "                    \"Training\", total=len(train_dataloader_chosen))):\n",
    "\n",
    "            batch_chosen = batch_chosen.to(device)\n",
    "            batch_rejected = batch_rejected.to(device)\n",
    "\n",
    "            chosen_outputs = model(batch_chosen)\n",
    "            rejected_outputs = model(batch_rejected)\n",
    "            loss = loss_fn(chosen_outputs.logits, rejected_outputs.logits)\n",
    "            \n",
    "            train_loss += loss.sum().item()\n",
    "            total += loss.shape[0]\n",
    "\n",
    "            optimizer.zero_grad()\n",
    "            loss.sum().backward()\n",
    "            optimizer.step()\n",
    "            \n",
    "        print(f\"Train loss: {train_loss/total:.2f}\")\n",
    "        evaluate(model, eval_dataloaders, loss_fn)"
   ]
  },
  {
   "cell_type": "code",
   "execution_count": 74,
   "id": "10c57e75-5b29-42c3-831b-385237eb8af6",
   "metadata": {
    "tags": []
   },
   "outputs": [
    {
     "name": "stdout",
     "output_type": "stream",
     "text": [
      "Epoch 1:\n"
     ]
    },
    {
     "data": {
      "application/vnd.jupyter.widget-view+json": {
       "model_id": "7a03878bcd4f4b889c1a81054a2bbe8c",
       "version_major": 2,
       "version_minor": 0
      },
      "text/plain": [
       "Training:   0%|          | 0/354 [00:00<?, ?it/s]"
      ]
     },
     "metadata": {},
     "output_type": "display_data"
    },
    {
     "name": "stdout",
     "output_type": "stream",
     "text": [
      "Train loss: 0.56\n"
     ]
    },
    {
     "data": {
      "application/vnd.jupyter.widget-view+json": {
       "model_id": "eeb0743c72bb49429500d27e70aed2d5",
       "version_major": 2,
       "version_minor": 0
      },
      "text/plain": [
       "Evaluation:   0%|          | 0/89 [00:00<?, ?it/s]"
      ]
     },
     "metadata": {},
     "output_type": "display_data"
    },
    {
     "name": "stdout",
     "output_type": "stream",
     "text": [
      "Eval loss: 0.48\n",
      "Eval accuracy: 0.76\n"
     ]
    }
   ],
   "source": [
    "train(model, (train_dataloader_chosen, train_dataloader_rejected),\n",
    "             (test_dataloader_chosen, test_dataloader_rejected),\n",
    "      epochs, loss_fn, optimizer)"
   ]
  },
  {
   "cell_type": "code",
   "execution_count": 75,
   "id": "677c0570-ae0e-4242-8b7a-bd14310d5973",
   "metadata": {
    "tags": []
   },
   "outputs": [],
   "source": [
    "def save_hf_model(model, tokenizer, model_path):\n",
    "    model.save_pretrained(model_path)\n",
    "    model.config.save_pretrained(model_path)\n",
    "    tokenizer.save_pretrained(model_path)"
   ]
  },
  {
   "cell_type": "code",
   "execution_count": 76,
   "id": "e1521197-c8f5-4407-a89e-2a2218c9f2ed",
   "metadata": {
    "tags": []
   },
   "outputs": [],
   "source": [
    "save_hf_model(model, tokenizer, \"models/v2j-reward-large\")"
   ]
  }
 ],
 "metadata": {
  "kernelspec": {
   "display_name": "Python 3 (ipykernel)",
   "language": "python",
   "name": "python3"
  },
  "language_info": {
   "codemirror_mode": {
    "name": "ipython",
    "version": 3
   },
   "file_extension": ".py",
   "mimetype": "text/x-python",
   "name": "python",
   "nbconvert_exporter": "python",
   "pygments_lexer": "ipython3",
   "version": "3.10.11"
  }
 },
 "nbformat": 4,
 "nbformat_minor": 5
}
